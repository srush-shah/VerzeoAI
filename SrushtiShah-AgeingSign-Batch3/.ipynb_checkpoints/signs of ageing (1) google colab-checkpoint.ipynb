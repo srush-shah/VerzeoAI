{
 "cells": [
  {
   "cell_type": "code",
   "execution_count": 1,
   "metadata": {},
   "outputs": [
    {
     "ename": "ModuleNotFoundError",
     "evalue": "No module named 'google.colab'",
     "output_type": "error",
     "traceback": [
      "\u001b[0;31m---------------------------------------------------------------------------\u001b[0m",
      "\u001b[0;31mModuleNotFoundError\u001b[0m                       Traceback (most recent call last)",
      "\u001b[0;32m<ipython-input-1-a3ec954addc5>\u001b[0m in \u001b[0;36m<module>\u001b[0;34m\u001b[0m\n\u001b[0;32m----> 1\u001b[0;31m \u001b[0;32mimport\u001b[0m \u001b[0mgoogle\u001b[0m\u001b[0;34m.\u001b[0m\u001b[0mcolab\u001b[0m\u001b[0;34m\u001b[0m\u001b[0;34m\u001b[0m\u001b[0m\n\u001b[0m\u001b[1;32m      2\u001b[0m \u001b[0;32mfrom\u001b[0m \u001b[0mgoogle\u001b[0m\u001b[0;34m.\u001b[0m\u001b[0mcolab\u001b[0m \u001b[0;32mimport\u001b[0m \u001b[0mdrive\u001b[0m\u001b[0;34m\u001b[0m\u001b[0;34m\u001b[0m\u001b[0m\n\u001b[1;32m      3\u001b[0m \u001b[0mdrive\u001b[0m\u001b[0;34m.\u001b[0m\u001b[0mmount\u001b[0m\u001b[0;34m(\u001b[0m\u001b[0;34m'/content/drive'\u001b[0m\u001b[0;34m)\u001b[0m\u001b[0;34m\u001b[0m\u001b[0;34m\u001b[0m\u001b[0m\n",
      "\u001b[0;31mModuleNotFoundError\u001b[0m: No module named 'google.colab'"
     ]
    }
   ],
   "source": [
    "import google.colab\n",
    "from google.colab import drive\n",
    "drive.mount('/content/drive')"
   ]
  },
  {
   "cell_type": "code",
   "execution_count": null,
   "metadata": {
    "executionInfo": {
     "elapsed": 375,
     "status": "ok",
     "timestamp": 1624382798473,
     "user": {
      "displayName": "Podduturi Snigdha Reddy",
      "photoUrl": "https://lh3.googleusercontent.com/a-/AOh14GhGNRR5SFAokJC3zWWsGFBj92R7SNrdGpxirlgVcuI=s64",
      "userId": "04242595001168259652"
     },
     "user_tz": -330
    },
    "id": "oQTXbCOL_f09"
   },
   "outputs": [],
   "source": [
    "import os\n",
    "import cv2"
   ]
  },
  {
   "cell_type": "code",
   "execution_count": null,
   "metadata": {
    "executionInfo": {
     "elapsed": 3,
     "status": "ok",
     "timestamp": 1624382798474,
     "user": {
      "displayName": "Podduturi Snigdha Reddy",
      "photoUrl": "https://lh3.googleusercontent.com/a-/AOh14GhGNRR5SFAokJC3zWWsGFBj92R7SNrdGpxirlgVcuI=s64",
      "userId": "04242595001168259652"
     },
     "user_tz": -330
    },
    "id": "kURAPKsp_f1B"
   },
   "outputs": [],
   "source": [
    "features=[]\n",
    "target=[]"
   ]
  },
  {
   "cell_type": "code",
   "execution_count": null,
   "metadata": {
    "colab": {
     "base_uri": "https://localhost:8080/"
    },
    "executionInfo": {
     "elapsed": 7421,
     "status": "ok",
     "timestamp": 1624382805892,
     "user": {
      "displayName": "Podduturi Snigdha Reddy",
      "photoUrl": "https://lh3.googleusercontent.com/a-/AOh14GhGNRR5SFAokJC3zWWsGFBj92R7SNrdGpxirlgVcuI=s64",
      "userId": "04242595001168259652"
     },
     "user_tz": -330
    },
    "id": "WF4P7CGs_f1C",
    "outputId": "65beacac-e2f9-451b-f69d-faabc3e23918"
   },
   "outputs": [],
   "source": [
    "for x in[\"dark spots\",\"puffy eyes\",\"wrinkles\",\"clear_face\"]:\n",
    "    ImagesNamesList=os.listdir(\"/content/drive/MyDrive/verzeo_ageing_dataset (1)\" + \"/\" + str(x))\n",
    "    for y in ImagesNamesList:\n",
    "        Imgarr=cv2.imread(\"/content/drive/MyDrive/verzeo_ageing_dataset (1)\" + \"/\" + str(x) + \"/\" + y)\n",
    "        try:\n",
    "            Imgarr=cv2.resize(Imgarr,(200,200))\n",
    "            features.append(Imgarr)\n",
    "        except:\n",
    "            pass\n",
    "        else:\n",
    "            if x==\"dark spots\":\n",
    "                target.append(0)\n",
    "            elif x==\"puffy eyes\":\n",
    "                target.append(1) \n",
    "            elif x==\"wrinkles\":\n",
    "                target.append(2)\n",
    "            else:\n",
    "                target.append(3)\n",
    "    print(\"In Folder\", x)"
   ]
  },
  {
   "cell_type": "code",
   "execution_count": null,
   "metadata": {
    "executionInfo": {
     "elapsed": 10,
     "status": "ok",
     "timestamp": 1624382805893,
     "user": {
      "displayName": "Podduturi Snigdha Reddy",
      "photoUrl": "https://lh3.googleusercontent.com/a-/AOh14GhGNRR5SFAokJC3zWWsGFBj92R7SNrdGpxirlgVcuI=s64",
      "userId": "04242595001168259652"
     },
     "user_tz": -330
    },
    "id": "OT3nkMIp_f1D"
   },
   "outputs": [],
   "source": [
    "import numpy as np"
   ]
  },
  {
   "cell_type": "code",
   "execution_count": null,
   "metadata": {
    "executionInfo": {
     "elapsed": 9,
     "status": "ok",
     "timestamp": 1624382805893,
     "user": {
      "displayName": "Podduturi Snigdha Reddy",
      "photoUrl": "https://lh3.googleusercontent.com/a-/AOh14GhGNRR5SFAokJC3zWWsGFBj92R7SNrdGpxirlgVcuI=s64",
      "userId": "04242595001168259652"
     },
     "user_tz": -330
    },
    "id": "6T9NXfwD_f1D"
   },
   "outputs": [],
   "source": [
    "features=np.array(features)\n",
    "target=np.array(target)"
   ]
  },
  {
   "cell_type": "code",
   "execution_count": null,
   "metadata": {
    "colab": {
     "base_uri": "https://localhost:8080/"
    },
    "executionInfo": {
     "elapsed": 9,
     "status": "ok",
     "timestamp": 1624382805893,
     "user": {
      "displayName": "Podduturi Snigdha Reddy",
      "photoUrl": "https://lh3.googleusercontent.com/a-/AOh14GhGNRR5SFAokJC3zWWsGFBj92R7SNrdGpxirlgVcuI=s64",
      "userId": "04242595001168259652"
     },
     "user_tz": -330
    },
    "id": "Ev3a0-2c_f1E",
    "outputId": "c91ff924-2e1d-447f-ff76-850da5d38f0c"
   },
   "outputs": [],
   "source": [
    "features.shape"
   ]
  },
  {
   "cell_type": "code",
   "execution_count": null,
   "metadata": {
    "colab": {
     "base_uri": "https://localhost:8080/"
    },
    "executionInfo": {
     "elapsed": 7,
     "status": "ok",
     "timestamp": 1624382805894,
     "user": {
      "displayName": "Podduturi Snigdha Reddy",
      "photoUrl": "https://lh3.googleusercontent.com/a-/AOh14GhGNRR5SFAokJC3zWWsGFBj92R7SNrdGpxirlgVcuI=s64",
      "userId": "04242595001168259652"
     },
     "user_tz": -330
    },
    "id": "lCPwkPeb_f1E",
    "outputId": "32b5cb4b-15a5-493b-f22f-889d05c3b268"
   },
   "outputs": [],
   "source": [
    "target.shape"
   ]
  },
  {
   "cell_type": "code",
   "execution_count": null,
   "metadata": {
    "executionInfo": {
     "elapsed": 5,
     "status": "ok",
     "timestamp": 1624382805894,
     "user": {
      "displayName": "Podduturi Snigdha Reddy",
      "photoUrl": "https://lh3.googleusercontent.com/a-/AOh14GhGNRR5SFAokJC3zWWsGFBj92R7SNrdGpxirlgVcuI=s64",
      "userId": "04242595001168259652"
     },
     "user_tz": -330
    },
    "id": "h2frlsxG_f1E"
   },
   "outputs": [],
   "source": [
    "from sklearn.model_selection import train_test_split"
   ]
  },
  {
   "cell_type": "code",
   "execution_count": null,
   "metadata": {
    "executionInfo": {
     "elapsed": 730,
     "status": "ok",
     "timestamp": 1624382806619,
     "user": {
      "displayName": "Podduturi Snigdha Reddy",
      "photoUrl": "https://lh3.googleusercontent.com/a-/AOh14GhGNRR5SFAokJC3zWWsGFBj92R7SNrdGpxirlgVcuI=s64",
      "userId": "04242595001168259652"
     },
     "user_tz": -330
    },
    "id": "wzDfK8i-_f1F"
   },
   "outputs": [],
   "source": [
    "features_train,features_test,target_train,target_test=train_test_split(features,target,test_size=0.2)"
   ]
  },
  {
   "cell_type": "code",
   "execution_count": null,
   "metadata": {
    "colab": {
     "base_uri": "https://localhost:8080/"
    },
    "executionInfo": {
     "elapsed": 12,
     "status": "ok",
     "timestamp": 1624382806620,
     "user": {
      "displayName": "Podduturi Snigdha Reddy",
      "photoUrl": "https://lh3.googleusercontent.com/a-/AOh14GhGNRR5SFAokJC3zWWsGFBj92R7SNrdGpxirlgVcuI=s64",
      "userId": "04242595001168259652"
     },
     "user_tz": -330
    },
    "id": "_yGB3wHH_f1F",
    "outputId": "273cbcdc-dfdc-4531-ba77-83a470c79d58"
   },
   "outputs": [],
   "source": [
    "features_train.shape"
   ]
  },
  {
   "cell_type": "code",
   "execution_count": null,
   "metadata": {
    "colab": {
     "base_uri": "https://localhost:8080/"
    },
    "executionInfo": {
     "elapsed": 11,
     "status": "ok",
     "timestamp": 1624382806620,
     "user": {
      "displayName": "Podduturi Snigdha Reddy",
      "photoUrl": "https://lh3.googleusercontent.com/a-/AOh14GhGNRR5SFAokJC3zWWsGFBj92R7SNrdGpxirlgVcuI=s64",
      "userId": "04242595001168259652"
     },
     "user_tz": -330
    },
    "id": "6RvASksp_f1F",
    "outputId": "ab2c1714-1361-4999-a649-670e7fe416f3"
   },
   "outputs": [],
   "source": [
    "target_train.shape"
   ]
  },
  {
   "cell_type": "code",
   "execution_count": null,
   "metadata": {
    "colab": {
     "base_uri": "https://localhost:8080/"
    },
    "executionInfo": {
     "elapsed": 10,
     "status": "ok",
     "timestamp": 1624382806621,
     "user": {
      "displayName": "Podduturi Snigdha Reddy",
      "photoUrl": "https://lh3.googleusercontent.com/a-/AOh14GhGNRR5SFAokJC3zWWsGFBj92R7SNrdGpxirlgVcuI=s64",
      "userId": "04242595001168259652"
     },
     "user_tz": -330
    },
    "id": "BW8guRAG_f1G",
    "outputId": "fbf8b68e-30e1-423c-d34a-1442254fbd97"
   },
   "outputs": [],
   "source": [
    "features_test.shape"
   ]
  },
  {
   "cell_type": "code",
   "execution_count": null,
   "metadata": {
    "colab": {
     "base_uri": "https://localhost:8080/"
    },
    "executionInfo": {
     "elapsed": 7,
     "status": "ok",
     "timestamp": 1624382806621,
     "user": {
      "displayName": "Podduturi Snigdha Reddy",
      "photoUrl": "https://lh3.googleusercontent.com/a-/AOh14GhGNRR5SFAokJC3zWWsGFBj92R7SNrdGpxirlgVcuI=s64",
      "userId": "04242595001168259652"
     },
     "user_tz": -330
    },
    "id": "en9JeRHs_f1G",
    "outputId": "ea96b7bd-8720-4250-b2b4-b2f7437686f3"
   },
   "outputs": [],
   "source": [
    "target_test.shape"
   ]
  },
  {
   "cell_type": "code",
   "execution_count": null,
   "metadata": {
    "executionInfo": {
     "elapsed": 7,
     "status": "ok",
     "timestamp": 1624382806623,
     "user": {
      "displayName": "Podduturi Snigdha Reddy",
      "photoUrl": "https://lh3.googleusercontent.com/a-/AOh14GhGNRR5SFAokJC3zWWsGFBj92R7SNrdGpxirlgVcuI=s64",
      "userId": "04242595001168259652"
     },
     "user_tz": -330
    },
    "id": "hjErZLAv_f1G"
   },
   "outputs": [],
   "source": [
    "def preprocessing(image):\n",
    "    image=cv2.cvtColor(image,cv2.COLOR_BGR2GRAY)\n",
    "    image=image/255 \n",
    "    return image"
   ]
  },
  {
   "cell_type": "code",
   "execution_count": null,
   "metadata": {
    "executionInfo": {
     "elapsed": 7,
     "status": "ok",
     "timestamp": 1624382806623,
     "user": {
      "displayName": "Podduturi Snigdha Reddy",
      "photoUrl": "https://lh3.googleusercontent.com/a-/AOh14GhGNRR5SFAokJC3zWWsGFBj92R7SNrdGpxirlgVcuI=s64",
      "userId": "04242595001168259652"
     },
     "user_tz": -330
    },
    "id": "VST5n81m_f1H"
   },
   "outputs": [],
   "source": [
    "features_train=np.array(list(map(preprocessing,features_train)))"
   ]
  },
  {
   "cell_type": "code",
   "execution_count": null,
   "metadata": {},
   "outputs": [],
   "source": [
    "features_train.shape"
   ]
  },
  {
   "cell_type": "code",
   "execution_count": null,
   "metadata": {
    "executionInfo": {
     "elapsed": 7,
     "status": "ok",
     "timestamp": 1624382806623,
     "user": {
      "displayName": "Podduturi Snigdha Reddy",
      "photoUrl": "https://lh3.googleusercontent.com/a-/AOh14GhGNRR5SFAokJC3zWWsGFBj92R7SNrdGpxirlgVcuI=s64",
      "userId": "04242595001168259652"
     },
     "user_tz": -330
    },
    "id": "TL5WPQWM_f1H"
   },
   "outputs": [],
   "source": [
    "features_train=features_train.reshape((1192, 200, 200,1))"
   ]
  },
  {
   "cell_type": "code",
   "execution_count": null,
   "metadata": {
    "executionInfo": {
     "elapsed": 1977,
     "status": "ok",
     "timestamp": 1624382808594,
     "user": {
      "displayName": "Podduturi Snigdha Reddy",
      "photoUrl": "https://lh3.googleusercontent.com/a-/AOh14GhGNRR5SFAokJC3zWWsGFBj92R7SNrdGpxirlgVcuI=s64",
      "userId": "04242595001168259652"
     },
     "user_tz": -330
    },
    "id": "R6EQM9mp_f1H"
   },
   "outputs": [],
   "source": [
    "from keras.preprocessing.image import ImageDataGenerator"
   ]
  },
  {
   "cell_type": "code",
   "execution_count": null,
   "metadata": {
    "executionInfo": {
     "elapsed": 9,
     "status": "ok",
     "timestamp": 1624382808597,
     "user": {
      "displayName": "Podduturi Snigdha Reddy",
      "photoUrl": "https://lh3.googleusercontent.com/a-/AOh14GhGNRR5SFAokJC3zWWsGFBj92R7SNrdGpxirlgVcuI=s64",
      "userId": "04242595001168259652"
     },
     "user_tz": -330
    },
    "id": "eQp1IO2e_f1H"
   },
   "outputs": [],
   "source": [
    "dataGen=ImageDataGenerator(rotation_range=10,width_shift_range=0.1,height_shift_range=0.1,zoom_range=0.2,shear_range=0.1)"
   ]
  },
  {
   "cell_type": "code",
   "execution_count": null,
   "metadata": {
    "executionInfo": {
     "elapsed": 7,
     "status": "ok",
     "timestamp": 1624382808597,
     "user": {
      "displayName": "Podduturi Snigdha Reddy",
      "photoUrl": "https://lh3.googleusercontent.com/a-/AOh14GhGNRR5SFAokJC3zWWsGFBj92R7SNrdGpxirlgVcuI=s64",
      "userId": "04242595001168259652"
     },
     "user_tz": -330
    },
    "id": "mCQneDQq_f1H"
   },
   "outputs": [],
   "source": [
    "dataGen.fit(features_train)"
   ]
  },
  {
   "cell_type": "code",
   "execution_count": null,
   "metadata": {
    "executionInfo": {
     "elapsed": 6,
     "status": "ok",
     "timestamp": 1624382808598,
     "user": {
      "displayName": "Podduturi Snigdha Reddy",
      "photoUrl": "https://lh3.googleusercontent.com/a-/AOh14GhGNRR5SFAokJC3zWWsGFBj92R7SNrdGpxirlgVcuI=s64",
      "userId": "04242595001168259652"
     },
     "user_tz": -330
    },
    "id": "nMOB8iBF_f1I"
   },
   "outputs": [],
   "source": [
    "batches=dataGen.flow(features_train,target_train,batch_size=20)"
   ]
  },
  {
   "cell_type": "code",
   "execution_count": null,
   "metadata": {
    "executionInfo": {
     "elapsed": 6,
     "status": "ok",
     "timestamp": 1624382808599,
     "user": {
      "displayName": "Podduturi Snigdha Reddy",
      "photoUrl": "https://lh3.googleusercontent.com/a-/AOh14GhGNRR5SFAokJC3zWWsGFBj92R7SNrdGpxirlgVcuI=s64",
      "userId": "04242595001168259652"
     },
     "user_tz": -330
    },
    "id": "9o_Q1GW2_f1I"
   },
   "outputs": [],
   "source": [
    "images,labels=next(batches)"
   ]
  },
  {
   "cell_type": "code",
   "execution_count": null,
   "metadata": {
    "executionInfo": {
     "elapsed": 6,
     "status": "ok",
     "timestamp": 1624382808599,
     "user": {
      "displayName": "Podduturi Snigdha Reddy",
      "photoUrl": "https://lh3.googleusercontent.com/a-/AOh14GhGNRR5SFAokJC3zWWsGFBj92R7SNrdGpxirlgVcuI=s64",
      "userId": "04242595001168259652"
     },
     "user_tz": -330
    },
    "id": "DB-8CPOl_f1I"
   },
   "outputs": [],
   "source": [
    "import matplotlib.pyplot as plt"
   ]
  },
  {
   "cell_type": "code",
   "execution_count": null,
   "metadata": {
    "colab": {
     "base_uri": "https://localhost:8080/",
     "height": 573
    },
    "executionInfo": {
     "elapsed": 3032,
     "status": "ok",
     "timestamp": 1624382811626,
     "user": {
      "displayName": "Podduturi Snigdha Reddy",
      "photoUrl": "https://lh3.googleusercontent.com/a-/AOh14GhGNRR5SFAokJC3zWWsGFBj92R7SNrdGpxirlgVcuI=s64",
      "userId": "04242595001168259652"
     },
     "user_tz": -330
    },
    "id": "ggtJZy7m_f1I",
    "outputId": "33802a3e-74b4-4e09-d07e-eb3499deb939"
   },
   "outputs": [],
   "source": [
    "plt.figure(figsize=(10,10))\n",
    "for i in range(0,20):\n",
    "    plt.subplot(4,5,i+1)\n",
    "    plt.imshow(images[i].reshape(200,200))\n",
    "plt.show()"
   ]
  },
  {
   "cell_type": "code",
   "execution_count": null,
   "metadata": {
    "executionInfo": {
     "elapsed": 11,
     "status": "ok",
     "timestamp": 1624382811627,
     "user": {
      "displayName": "Podduturi Snigdha Reddy",
      "photoUrl": "https://lh3.googleusercontent.com/a-/AOh14GhGNRR5SFAokJC3zWWsGFBj92R7SNrdGpxirlgVcuI=s64",
      "userId": "04242595001168259652"
     },
     "user_tz": -330
    },
    "id": "0TMOW5Tw_f1I"
   },
   "outputs": [],
   "source": [
    "from tensorflow.keras.utils import to_categorical"
   ]
  },
  {
   "cell_type": "code",
   "execution_count": null,
   "metadata": {
    "executionInfo": {
     "elapsed": 10,
     "status": "ok",
     "timestamp": 1624382811627,
     "user": {
      "displayName": "Podduturi Snigdha Reddy",
      "photoUrl": "https://lh3.googleusercontent.com/a-/AOh14GhGNRR5SFAokJC3zWWsGFBj92R7SNrdGpxirlgVcuI=s64",
      "userId": "04242595001168259652"
     },
     "user_tz": -330
    },
    "id": "zMyMrtGe_f1I"
   },
   "outputs": [],
   "source": [
    "target_train=to_categorical(target_train)"
   ]
  },
  {
   "cell_type": "code",
   "execution_count": null,
   "metadata": {
    "colab": {
     "base_uri": "https://localhost:8080/"
    },
    "executionInfo": {
     "elapsed": 11,
     "status": "ok",
     "timestamp": 1624382811628,
     "user": {
      "displayName": "Podduturi Snigdha Reddy",
      "photoUrl": "https://lh3.googleusercontent.com/a-/AOh14GhGNRR5SFAokJC3zWWsGFBj92R7SNrdGpxirlgVcuI=s64",
      "userId": "04242595001168259652"
     },
     "user_tz": -330
    },
    "id": "0YYDahZX_f1J",
    "outputId": "34fcf07d-8adb-49d1-8482-08a0a5d162f5"
   },
   "outputs": [],
   "source": [
    "target_train.shape"
   ]
  },
  {
   "cell_type": "code",
   "execution_count": null,
   "metadata": {
    "colab": {
     "base_uri": "https://localhost:8080/"
    },
    "executionInfo": {
     "elapsed": 8,
     "status": "ok",
     "timestamp": 1624382811628,
     "user": {
      "displayName": "Podduturi Snigdha Reddy",
      "photoUrl": "https://lh3.googleusercontent.com/a-/AOh14GhGNRR5SFAokJC3zWWsGFBj92R7SNrdGpxirlgVcuI=s64",
      "userId": "04242595001168259652"
     },
     "user_tz": -330
    },
    "id": "EzcATZ7__f1J",
    "outputId": "cb79ec30-6900-464b-d2bf-d37d7d09b20c"
   },
   "outputs": [],
   "source": [
    "features_train.shape"
   ]
  },
  {
   "cell_type": "code",
   "execution_count": null,
   "metadata": {
    "executionInfo": {
     "elapsed": 8,
     "status": "ok",
     "timestamp": 1624382811629,
     "user": {
      "displayName": "Podduturi Snigdha Reddy",
      "photoUrl": "https://lh3.googleusercontent.com/a-/AOh14GhGNRR5SFAokJC3zWWsGFBj92R7SNrdGpxirlgVcuI=s64",
      "userId": "04242595001168259652"
     },
     "user_tz": -330
    },
    "id": "V_uGOYfv_f1J"
   },
   "outputs": [],
   "source": [
    "from keras.layers import Dense,Flatten,Conv2D,MaxPooling2D,Dropout\n",
    "from keras.models import Sequential\n",
    "from tensorflow.keras.applications import EfficientNetB0\n"
   ]
  },
  {
   "cell_type": "code",
   "execution_count": null,
   "metadata": {
    "executionInfo": {
     "elapsed": 707,
     "status": "ok",
     "timestamp": 1624382812329,
     "user": {
      "displayName": "Podduturi Snigdha Reddy",
      "photoUrl": "https://lh3.googleusercontent.com/a-/AOh14GhGNRR5SFAokJC3zWWsGFBj92R7SNrdGpxirlgVcuI=s64",
      "userId": "04242595001168259652"
     },
     "user_tz": -330
    },
    "id": "tTErh18Q_f1J"
   },
   "outputs": [],
   "source": [
    "conv_base=EfficientNetB0(weights=\"imagenet\",include_top=False,input_shape=(244,244,3))\n",
    "model=Sequential()\n",
    "model.add(conv_base)\n",
    "model.add(MaxPooling2D((3,3)))\n",
    "model.add(Dropout(0.4))\n",
    "model.add(Flatten())\n",
    "model.add(Dense(4,activation=\"sigmoid\"))"
   ]
  },
  {
   "cell_type": "code",
   "execution_count": null,
   "metadata": {
    "executionInfo": {
     "elapsed": 8,
     "status": "ok",
     "timestamp": 1624382812330,
     "user": {
      "displayName": "Podduturi Snigdha Reddy",
      "photoUrl": "https://lh3.googleusercontent.com/a-/AOh14GhGNRR5SFAokJC3zWWsGFBj92R7SNrdGpxirlgVcuI=s64",
      "userId": "04242595001168259652"
     },
     "user_tz": -330
    },
    "id": "BdkndPXQ_f1K"
   },
   "outputs": [],
   "source": [
    "from keras.optimizers import Adam"
   ]
  },
  {
   "cell_type": "code",
   "execution_count": null,
   "metadata": {
    "executionInfo": {
     "elapsed": 6,
     "status": "ok",
     "timestamp": 1624382812330,
     "user": {
      "displayName": "Podduturi Snigdha Reddy",
      "photoUrl": "https://lh3.googleusercontent.com/a-/AOh14GhGNRR5SFAokJC3zWWsGFBj92R7SNrdGpxirlgVcuI=s64",
      "userId": "04242595001168259652"
     },
     "user_tz": -330
    },
    "id": "9rbQQhD4_f1K"
   },
   "outputs": [],
   "source": [
    "model.compile(Adam(learning_rate=0.001),loss=\"binary_crossentropy\",metrics=[\"accuracy\"])"
   ]
  },
  {
   "cell_type": "code",
   "execution_count": null,
   "metadata": {
    "colab": {
     "base_uri": "https://localhost:8080/"
    },
    "executionInfo": {
     "elapsed": 143494,
     "status": "ok",
     "timestamp": 1624382955819,
     "user": {
      "displayName": "Podduturi Snigdha Reddy",
      "photoUrl": "https://lh3.googleusercontent.com/a-/AOh14GhGNRR5SFAokJC3zWWsGFBj92R7SNrdGpxirlgVcuI=s64",
      "userId": "04242595001168259652"
     },
     "user_tz": -330
    },
    "id": "aAyTBE3Y_f1K",
    "outputId": "13c6cbdc-46c0-4859-fe59-1c81a16d5f7e"
   },
   "outputs": [],
   "source": [
    "model.fit(dataGen.flow(features_train,target_train,batch_size=20),epochs=30)"
   ]
  },
  {
   "cell_type": "code",
   "execution_count": null,
   "metadata": {
    "executionInfo": {
     "elapsed": 8,
     "status": "ok",
     "timestamp": 1624382955820,
     "user": {
      "displayName": "Podduturi Snigdha Reddy",
      "photoUrl": "https://lh3.googleusercontent.com/a-/AOh14GhGNRR5SFAokJC3zWWsGFBj92R7SNrdGpxirlgVcuI=s64",
      "userId": "04242595001168259652"
     },
     "user_tz": -330
    },
    "id": "vxOY5Nk_YD-k"
   },
   "outputs": [],
   "source": [
    "from keras.models import model_from_json"
   ]
  },
  {
   "cell_type": "code",
   "execution_count": null,
   "metadata": {
    "colab": {
     "base_uri": "https://localhost:8080/"
    },
    "executionInfo": {
     "elapsed": 857,
     "status": "ok",
     "timestamp": 1624382956672,
     "user": {
      "displayName": "Podduturi Snigdha Reddy",
      "photoUrl": "https://lh3.googleusercontent.com/a-/AOh14GhGNRR5SFAokJC3zWWsGFBj92R7SNrdGpxirlgVcuI=s64",
      "userId": "04242595001168259652"
     },
     "user_tz": -330
    },
    "id": "09V1FEL8YEGy",
    "outputId": "2e507170-f892-4377-a842-4849d46db213"
   },
   "outputs": [],
   "source": [
    "model_json=model.to_json()\n",
    "with open(\"signsOfAging.json\",\"w\") as abc:\n",
    "    abc.write(model_json)\n",
    "    abc.close()\n",
    "model.save_weights(\"signsOfAging.h5\")\n",
    "print(\"Save the Model\")"
   ]
  },
  {
   "cell_type": "code",
   "execution_count": null,
   "metadata": {
    "colab": {
     "base_uri": "https://localhost:8080/"
    },
    "executionInfo": {
     "elapsed": 26,
     "status": "ok",
     "timestamp": 1624382956673,
     "user": {
      "displayName": "Podduturi Snigdha Reddy",
      "photoUrl": "https://lh3.googleusercontent.com/a-/AOh14GhGNRR5SFAokJC3zWWsGFBj92R7SNrdGpxirlgVcuI=s64",
      "userId": "04242595001168259652"
     },
     "user_tz": -330
    },
    "id": "qN61z_ZEYEOi",
    "outputId": "a0ec211c-79a2-4cdd-e5cf-ee14ee4403f8"
   },
   "outputs": [],
   "source": [
    "json_file=open(\"signsOfAging.json\",\"r\")\n",
    "loaded_model_json=json_file.read()\n",
    "json_file.close()\n",
    "loaded_model=model_from_json(loaded_model_json)\n",
    "loaded_model.load_weights(\"signsOfAging.h5\")\n",
    "print(\"Loaded Model Sucesssfully\")"
   ]
  },
  {
   "cell_type": "code",
   "execution_count": null,
   "metadata": {
    "executionInfo": {
     "elapsed": 671,
     "status": "ok",
     "timestamp": 1624383770967,
     "user": {
      "displayName": "Podduturi Snigdha Reddy",
      "photoUrl": "https://lh3.googleusercontent.com/a-/AOh14GhGNRR5SFAokJC3zWWsGFBj92R7SNrdGpxirlgVcuI=s64",
      "userId": "04242595001168259652"
     },
     "user_tz": -330
    },
    "id": "y5u9FJTibjLf"
   },
   "outputs": [],
   "source": [
    " import numpy as np\n",
    "import cv2\n",
    "\n",
    " \n",
    "\n",
    "def getClassName(classNo):\n",
    "    if   classNo == 0: return 'With dark spots'\n",
    "    elif classNo == 1: return 'With puffy eyes'\n",
    "    elif classno == 2: return 'With wrinkles '\n",
    "    elif classno ==3:  return 'Glowing Skin !'"
   ]
  },
  {
   "cell_type": "code",
   "execution_count": null,
   "metadata": {
    "colab": {
     "base_uri": "https://localhost:8080/",
     "height": 1000
    },
    "executionInfo": {
     "elapsed": 3941,
     "status": "ok",
     "timestamp": 1624384641102,
     "user": {
      "displayName": "Podduturi Snigdha Reddy",
      "photoUrl": "https://lh3.googleusercontent.com/a-/AOh14GhGNRR5SFAokJC3zWWsGFBj92R7SNrdGpxirlgVcuI=s64",
      "userId": "04242595001168259652"
     },
     "user_tz": -330
    },
    "id": "k4LSkWPAbjOp",
    "outputId": "65ef1200-9997-44a4-eaf0-fcc8efa21819"
   },
   "outputs": [],
   "source": [
    "\n",
    "image=cv2.imread(\"/content/03198defbf9905613bedbbdd2323228d.jpg\")\n",
    "imagearr=np.array(image)\n",
    "face_cascade = cv2.CascadeClassifier(cv2.data.haarcascades +'haarcascade_frontalface_default.xml')\n",
    "gray=cv2.cvtColor(image,cv2.COLOR_BGR2GRAY)\n",
    "faces=face_cascade.detectMultiScale(gray,1.05,5)\n",
    "for (x,y,w,h) in faces:\n",
    "    detectedFace=image[x:x+w,y:y+h]\n",
    "    detectedFace=cv2.resize(detectedFace,(244,244))\n",
    "    detectedFace=preprocessing(detectedFace)\n",
    "    detectedFace=detectedFace.reshape(1,200,200,1)\n",
    "      predictions=loaded_model.predict(detectedFace)\n",
    "    classIndex=loaded_model.predict_classes(detectedFace)\n",
    "      probabilityValue=np.amax(predictions)\n",
    "    cv2.rectangle(image,(x,y),(x+w,y+h),(0,0,255),2)\n",
    "      if probabilityValue>0.75:\n",
    "        cv2.putText(image,getClassName(classIndex),(x , y-3),cv2.FONT_HERSHEY_SIMPLEX,1,(0,0,255),2)\n",
    "         cv2.putText(image,str(int(probabilityValue * 100)) + \" %\",( x+w+20,y-3),cv2.FONT_HERSHEY_SIMPLEX,1,(0,0,255),2)\n",
    "    cv2_imshow(image)\n",
    "      returnedValue=cv2.waitKey(1)\n",
    "    if returnedValue==ord(\"s\") or returnedValue==ord(\"S\"):\n",
    "         cv2.destroyAllWindows()\n",
    "        break"
   ]
  }
 ],
 "metadata": {
  "accelerator": "GPU",
  "colab": {
   "collapsed_sections": [],
   "name": "signs of ageing.ipynb",
   "provenance": []
  },
  "kernelspec": {
   "display_name": "Python 3",
   "language": "python",
   "name": "python3"
  },
  "language_info": {
   "codemirror_mode": {
    "name": "ipython",
    "version": 3
   },
   "file_extension": ".py",
   "mimetype": "text/x-python",
   "name": "python",
   "nbconvert_exporter": "python",
   "pygments_lexer": "ipython3",
   "version": "3.8.5"
  }
 },
 "nbformat": 4,
 "nbformat_minor": 1
}
