{
 "cells": [
  {
   "cell_type": "markdown",
   "metadata": {},
   "source": [
    "Popular library for computer vision - OpenCV"
   ]
  },
  {
   "cell_type": "code",
   "execution_count": 1,
   "metadata": {},
   "outputs": [],
   "source": [
    "import cv2"
   ]
  },
  {
   "cell_type": "markdown",
   "metadata": {},
   "source": [
    "# Display the image using opencv"
   ]
  },
  {
   "cell_type": "code",
   "execution_count": 3,
   "metadata": {},
   "outputs": [
    {
     "data": {
      "text/plain": [
       "-1"
      ]
     },
     "execution_count": 3,
     "metadata": {},
     "output_type": "execute_result"
    }
   ],
   "source": [
    "# read the data in the image and convert it to an array\n",
    "arr = cv2.imread(\"/Users/Srushti/Documents/PersonalPortfolio/images/SurveyForm.png\")\n",
    "cv2.startWindowThread()\n",
    "# convert the array back to an image and then display it\n",
    "cv2.imshow(\"ABC\", arr)\n",
    "# It shows the image for 5 seconds\n",
    "cv2.waitKey(5000) #milliseconds\n",
    "# Remove all the windows that popped up because of this python file\n",
    "cv2.destroyAllWindows()\n",
    "cv2.waitKey(1)"
   ]
  },
  {
   "cell_type": "markdown",
   "metadata": {},
   "source": [
    "1. Opencv library does not know for how much time should I show the image\n",
    "2. Opencv does not know after showing the image, what to do with the window"
   ]
  },
  {
   "cell_type": "code",
   "execution_count": 5,
   "metadata": {},
   "outputs": [
    {
     "data": {
      "text/plain": [
       "-1"
      ]
     },
     "execution_count": 5,
     "metadata": {},
     "output_type": "execute_result"
    }
   ],
   "source": [
    "# read the data in the image and convert it to an array\n",
    "arr = cv2.imread(\"/Users/Srushti/Documents/PersonalPortfolio/images/SurveyForm.png\")\n",
    "cv2.startWindowThread()\n",
    "# convert the array back to an image and then display it\n",
    "cv2.imshow(\"ABC\", arr)\n",
    "# It shows the image for 5 seconds\n",
    "cv2.waitKey(0) #window will be shown until any key is pressed\n",
    "# Remove all the windows that popped up because of this python file\n",
    "cv2.destroyAllWindows()\n",
    "cv2.waitKey(1)"
   ]
  },
  {
   "cell_type": "markdown",
   "metadata": {},
   "source": [
    "# Draw a line on the image"
   ]
  },
  {
   "cell_type": "code",
   "execution_count": 13,
   "metadata": {},
   "outputs": [
    {
     "data": {
      "text/plain": [
       "-1"
      ]
     },
     "execution_count": 13,
     "metadata": {},
     "output_type": "execute_result"
    }
   ],
   "source": [
    "# read the data in the image and convert it to an array\n",
    "arr = cv2.imread(\"/Users/Srushti/Documents/PersonalPortfolio/images/SurveyForm.png\")\n",
    "cv2.line(arr,(200,100),(200,400),(0,255,0),3) #parameters - image, starting point, ending point, colour(B,G,R), thickness\n",
    "cv2.startWindowThread()\n",
    "# convert the array back to an image and then display it\n",
    "cv2.imshow(\"ABC\", arr)\n",
    "# It shows the image for 5 seconds\n",
    "cv2.waitKey(0) #window will be shown until any key is pressed\n",
    "# Remove all the windows that popped up because of this python file\n",
    "cv2.destroyAllWindows()\n",
    "cv2.waitKey(1)"
   ]
  },
  {
   "cell_type": "code",
   "execution_count": null,
   "metadata": {},
   "outputs": [],
   "source": []
  }
 ],
 "metadata": {
  "kernelspec": {
   "display_name": "Python 3",
   "language": "python",
   "name": "python3"
  },
  "language_info": {
   "codemirror_mode": {
    "name": "ipython",
    "version": 3
   },
   "file_extension": ".py",
   "mimetype": "text/x-python",
   "name": "python",
   "nbconvert_exporter": "python",
   "pygments_lexer": "ipython3",
   "version": "3.8.5"
  }
 },
 "nbformat": 4,
 "nbformat_minor": 4
}
